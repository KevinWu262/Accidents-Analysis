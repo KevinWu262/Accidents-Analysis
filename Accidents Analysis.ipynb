{
 "cells": [
  {
   "cell_type": "markdown",
   "id": "dbf22991",
   "metadata": {},
   "source": [
    "# Accidents Analysis"
   ]
  },
  {
   "cell_type": "markdown",
   "id": "892dbf26",
   "metadata": {},
   "source": [
    "## Setup"
   ]
  },
  {
   "cell_type": "code",
   "execution_count": 16,
   "id": "83db47bf",
   "metadata": {
    "scrolled": false
   },
   "outputs": [
    {
     "data": {
      "text/html": [
       "<div>\n",
       "<style scoped>\n",
       "    .dataframe tbody tr th:only-of-type {\n",
       "        vertical-align: middle;\n",
       "    }\n",
       "\n",
       "    .dataframe tbody tr th {\n",
       "        vertical-align: top;\n",
       "    }\n",
       "\n",
       "    .dataframe thead th {\n",
       "        text-align: right;\n",
       "    }\n",
       "</style>\n",
       "<table border=\"1\" class=\"dataframe\">\n",
       "  <thead>\n",
       "    <tr style=\"text-align: right;\">\n",
       "      <th></th>\n",
       "      <th>ID</th>\n",
       "      <th>Severity</th>\n",
       "      <th>Start_Time</th>\n",
       "      <th>End_Time</th>\n",
       "      <th>Start_Lat</th>\n",
       "      <th>Start_Lng</th>\n",
       "      <th>End_Lat</th>\n",
       "      <th>End_Lng</th>\n",
       "      <th>Distance(mi)</th>\n",
       "      <th>Description</th>\n",
       "      <th>...</th>\n",
       "      <th>Roundabout</th>\n",
       "      <th>Station</th>\n",
       "      <th>Stop</th>\n",
       "      <th>Traffic_Calming</th>\n",
       "      <th>Traffic_Signal</th>\n",
       "      <th>Turning_Loop</th>\n",
       "      <th>Sunrise_Sunset</th>\n",
       "      <th>Civil_Twilight</th>\n",
       "      <th>Nautical_Twilight</th>\n",
       "      <th>Astronomical_Twilight</th>\n",
       "    </tr>\n",
       "  </thead>\n",
       "  <tbody>\n",
       "    <tr>\n",
       "      <th>0</th>\n",
       "      <td>A-1</td>\n",
       "      <td>3</td>\n",
       "      <td>2016-02-08 00:37:08</td>\n",
       "      <td>2016-02-08 06:37:08</td>\n",
       "      <td>40.108910</td>\n",
       "      <td>-83.092860</td>\n",
       "      <td>40.112060</td>\n",
       "      <td>-83.031870</td>\n",
       "      <td>3.230</td>\n",
       "      <td>Between Sawmill Rd/Exit 20 and OH-315/Olentang...</td>\n",
       "      <td>...</td>\n",
       "      <td>False</td>\n",
       "      <td>False</td>\n",
       "      <td>False</td>\n",
       "      <td>False</td>\n",
       "      <td>False</td>\n",
       "      <td>False</td>\n",
       "      <td>Night</td>\n",
       "      <td>Night</td>\n",
       "      <td>Night</td>\n",
       "      <td>Night</td>\n",
       "    </tr>\n",
       "    <tr>\n",
       "      <th>1</th>\n",
       "      <td>A-2</td>\n",
       "      <td>2</td>\n",
       "      <td>2016-02-08 05:56:20</td>\n",
       "      <td>2016-02-08 11:56:20</td>\n",
       "      <td>39.865420</td>\n",
       "      <td>-84.062800</td>\n",
       "      <td>39.865010</td>\n",
       "      <td>-84.048730</td>\n",
       "      <td>0.747</td>\n",
       "      <td>At OH-4/OH-235/Exit 41 - Accident.</td>\n",
       "      <td>...</td>\n",
       "      <td>False</td>\n",
       "      <td>False</td>\n",
       "      <td>False</td>\n",
       "      <td>False</td>\n",
       "      <td>False</td>\n",
       "      <td>False</td>\n",
       "      <td>Night</td>\n",
       "      <td>Night</td>\n",
       "      <td>Night</td>\n",
       "      <td>Night</td>\n",
       "    </tr>\n",
       "    <tr>\n",
       "      <th>2</th>\n",
       "      <td>A-3</td>\n",
       "      <td>2</td>\n",
       "      <td>2016-02-08 06:15:39</td>\n",
       "      <td>2016-02-08 12:15:39</td>\n",
       "      <td>39.102660</td>\n",
       "      <td>-84.524680</td>\n",
       "      <td>39.102090</td>\n",
       "      <td>-84.523960</td>\n",
       "      <td>0.055</td>\n",
       "      <td>At I-71/US-50/Exit 1 - Accident.</td>\n",
       "      <td>...</td>\n",
       "      <td>False</td>\n",
       "      <td>False</td>\n",
       "      <td>False</td>\n",
       "      <td>False</td>\n",
       "      <td>False</td>\n",
       "      <td>False</td>\n",
       "      <td>Night</td>\n",
       "      <td>Night</td>\n",
       "      <td>Night</td>\n",
       "      <td>Day</td>\n",
       "    </tr>\n",
       "    <tr>\n",
       "      <th>3</th>\n",
       "      <td>A-4</td>\n",
       "      <td>2</td>\n",
       "      <td>2016-02-08 06:51:45</td>\n",
       "      <td>2016-02-08 12:51:45</td>\n",
       "      <td>41.062130</td>\n",
       "      <td>-81.537840</td>\n",
       "      <td>41.062170</td>\n",
       "      <td>-81.535470</td>\n",
       "      <td>0.123</td>\n",
       "      <td>At Dart Ave/Exit 21 - Accident.</td>\n",
       "      <td>...</td>\n",
       "      <td>False</td>\n",
       "      <td>False</td>\n",
       "      <td>False</td>\n",
       "      <td>False</td>\n",
       "      <td>False</td>\n",
       "      <td>False</td>\n",
       "      <td>Night</td>\n",
       "      <td>Night</td>\n",
       "      <td>Day</td>\n",
       "      <td>Day</td>\n",
       "    </tr>\n",
       "    <tr>\n",
       "      <th>4</th>\n",
       "      <td>A-5</td>\n",
       "      <td>3</td>\n",
       "      <td>2016-02-08 07:53:43</td>\n",
       "      <td>2016-02-08 13:53:43</td>\n",
       "      <td>39.172393</td>\n",
       "      <td>-84.492792</td>\n",
       "      <td>39.170476</td>\n",
       "      <td>-84.501798</td>\n",
       "      <td>0.500</td>\n",
       "      <td>At Mitchell Ave/Exit 6 - Accident.</td>\n",
       "      <td>...</td>\n",
       "      <td>False</td>\n",
       "      <td>False</td>\n",
       "      <td>False</td>\n",
       "      <td>False</td>\n",
       "      <td>False</td>\n",
       "      <td>False</td>\n",
       "      <td>Day</td>\n",
       "      <td>Day</td>\n",
       "      <td>Day</td>\n",
       "      <td>Day</td>\n",
       "    </tr>\n",
       "  </tbody>\n",
       "</table>\n",
       "<p>5 rows × 47 columns</p>\n",
       "</div>"
      ],
      "text/plain": [
       "    ID  Severity           Start_Time             End_Time  Start_Lat  \\\n",
       "0  A-1         3  2016-02-08 00:37:08  2016-02-08 06:37:08  40.108910   \n",
       "1  A-2         2  2016-02-08 05:56:20  2016-02-08 11:56:20  39.865420   \n",
       "2  A-3         2  2016-02-08 06:15:39  2016-02-08 12:15:39  39.102660   \n",
       "3  A-4         2  2016-02-08 06:51:45  2016-02-08 12:51:45  41.062130   \n",
       "4  A-5         3  2016-02-08 07:53:43  2016-02-08 13:53:43  39.172393   \n",
       "\n",
       "   Start_Lng    End_Lat    End_Lng  Distance(mi)  \\\n",
       "0 -83.092860  40.112060 -83.031870         3.230   \n",
       "1 -84.062800  39.865010 -84.048730         0.747   \n",
       "2 -84.524680  39.102090 -84.523960         0.055   \n",
       "3 -81.537840  41.062170 -81.535470         0.123   \n",
       "4 -84.492792  39.170476 -84.501798         0.500   \n",
       "\n",
       "                                         Description  ...  Roundabout Station  \\\n",
       "0  Between Sawmill Rd/Exit 20 and OH-315/Olentang...  ...       False   False   \n",
       "1                 At OH-4/OH-235/Exit 41 - Accident.  ...       False   False   \n",
       "2                   At I-71/US-50/Exit 1 - Accident.  ...       False   False   \n",
       "3                    At Dart Ave/Exit 21 - Accident.  ...       False   False   \n",
       "4                 At Mitchell Ave/Exit 6 - Accident.  ...       False   False   \n",
       "\n",
       "    Stop Traffic_Calming Traffic_Signal Turning_Loop Sunrise_Sunset  \\\n",
       "0  False           False          False        False          Night   \n",
       "1  False           False          False        False          Night   \n",
       "2  False           False          False        False          Night   \n",
       "3  False           False          False        False          Night   \n",
       "4  False           False          False        False            Day   \n",
       "\n",
       "  Civil_Twilight Nautical_Twilight Astronomical_Twilight  \n",
       "0          Night             Night                 Night  \n",
       "1          Night             Night                 Night  \n",
       "2          Night             Night                   Day  \n",
       "3          Night               Day                   Day  \n",
       "4            Day               Day                   Day  \n",
       "\n",
       "[5 rows x 47 columns]"
      ]
     },
     "execution_count": 16,
     "metadata": {},
     "output_type": "execute_result"
    }
   ],
   "source": [
    "import pandas as pd\n",
    "import numpy as np\n",
    "import matplotlib.pyplot as plt\n",
    "\n",
    "plt.close('all')\n",
    "\n",
    "df = pd.read_csv('accidents_data.csv')\n",
    "\n",
    "df.head(5)"
   ]
  },
  {
   "cell_type": "code",
   "execution_count": 61,
   "id": "2c23c2ab",
   "metadata": {
    "scrolled": true
   },
   "outputs": [
    {
     "data": {
      "text/plain": [
       "Index(['ID', 'Severity', 'Start_Time', 'End_Time', 'Start_Lat', 'Start_Lng',\n",
       "       'End_Lat', 'End_Lng', 'Distance(mi)', 'Description', 'Number', 'Street',\n",
       "       'Side', 'City', 'County', 'State', 'Zipcode', 'Country', 'Timezone',\n",
       "       'Airport_Code', 'Weather_Timestamp', 'Temperature(F)', 'Wind_Chill(F)',\n",
       "       'Humidity(%)', 'Pressure(in)', 'Visibility(mi)', 'Wind_Direction',\n",
       "       'Wind_Speed(mph)', 'Precipitation(in)', 'Weather_Condition', 'Amenity',\n",
       "       'Bump', 'Crossing', 'Give_Way', 'Junction', 'No_Exit', 'Railway',\n",
       "       'Roundabout', 'Station', 'Stop', 'Traffic_Calming', 'Traffic_Signal',\n",
       "       'Turning_Loop', 'Sunrise_Sunset', 'Civil_Twilight', 'Nautical_Twilight',\n",
       "       'Astronomical_Twilight'],\n",
       "      dtype='object')"
      ]
     },
     "execution_count": 61,
     "metadata": {},
     "output_type": "execute_result"
    }
   ],
   "source": [
    "# Finding all columns\n",
    "df.columns"
   ]
  },
  {
   "cell_type": "code",
   "execution_count": 35,
   "id": "3ceaedd7",
   "metadata": {},
   "outputs": [
    {
     "data": {
      "text/plain": [
       "Number                   1743911\n",
       "Precipitation(in)         549458\n",
       "Wind_Chill(F)             469643\n",
       "Wind_Speed(mph)           157944\n",
       "Wind_Direction             73775\n",
       "Humidity(%)                73092\n",
       "Weather_Condition          70636\n",
       "Visibility(mi)             70546\n",
       "Temperature(F)             69274\n",
       "Pressure(in)               59200\n",
       "Weather_Timestamp          50736\n",
       "Airport_Code                9549\n",
       "Timezone                    3659\n",
       "Nautical_Twilight           2867\n",
       "Civil_Twilight              2867\n",
       "Sunrise_Sunset              2867\n",
       "Astronomical_Twilight       2867\n",
       "Zipcode                     1319\n",
       "City                         137\n",
       "Street                         2\n",
       "Country                        0\n",
       "Junction                       0\n",
       "Start_Time                     0\n",
       "End_Time                       0\n",
       "Start_Lat                      0\n",
       "Turning_Loop                   0\n",
       "Traffic_Signal                 0\n",
       "Traffic_Calming                0\n",
       "Stop                           0\n",
       "Station                        0\n",
       "Roundabout                     0\n",
       "Railway                        0\n",
       "No_Exit                        0\n",
       "Crossing                       0\n",
       "Give_Way                       0\n",
       "Bump                           0\n",
       "Amenity                        0\n",
       "Start_Lng                      0\n",
       "End_Lat                        0\n",
       "End_Lng                        0\n",
       "Distance(mi)                   0\n",
       "Description                    0\n",
       "Severity                       0\n",
       "Side                           0\n",
       "County                         0\n",
       "State                          0\n",
       "ID                             0\n",
       "dtype: int64"
      ]
     },
     "execution_count": 35,
     "metadata": {},
     "output_type": "execute_result"
    }
   ],
   "source": [
    "# finding missing values in data\n",
    "missing_values = df.isna().sum().sort_values(ascending=False)\n",
    "\n",
    "missing_values"
   ]
  },
  {
   "cell_type": "code",
   "execution_count": 60,
   "id": "e12e294c",
   "metadata": {},
   "outputs": [
    {
     "data": {
      "text/plain": [
       "{'Number': 61.29,\n",
       " 'Precipitation(in)': 19.31,\n",
       " 'Wind_Chill(F)': 16.51,\n",
       " 'Wind_Speed(mph)': 5.55,\n",
       " 'Wind_Direction': 2.59,\n",
       " 'Humidity(%)': 2.57,\n",
       " 'Weather_Condition': 2.48,\n",
       " 'Visibility(mi)': 2.48,\n",
       " 'Temperature(F)': 2.43,\n",
       " 'Pressure(in)': 2.08,\n",
       " 'Weather_Timestamp': 1.78,\n",
       " 'Airport_Code': 0.34,\n",
       " 'Timezone': 0.13,\n",
       " 'Nautical_Twilight': 0.1,\n",
       " 'Civil_Twilight': 0.1,\n",
       " 'Sunrise_Sunset': 0.1,\n",
       " 'Astronomical_Twilight': 0.1,\n",
       " 'Zipcode': 0.05}"
      ]
     },
     "execution_count": 60,
     "metadata": {},
     "output_type": "execute_result"
    }
   ],
   "source": [
    "missing_percentage_raw = round(missing_values/len(df)*100, 2)\n",
    "\n",
    "missing_percentage_only = missing_percentage[missing_percentage>0]\n",
    "missing_percentage_only = dict(sorted(missing_percentage_only.items(), key = lambda x: x[1], reverse=True))\n",
    "\n",
    "missing_percentage_only"
   ]
  },
  {
   "cell_type": "code",
   "execution_count": 59,
   "id": "4e759d6e",
   "metadata": {},
   "outputs": [
    {
     "data": {
      "text/plain": [
       "City               0.0\n",
       "Street             0.0\n",
       "Country            0.0\n",
       "Junction           0.0\n",
       "Start_Time         0.0\n",
       "End_Time           0.0\n",
       "Start_Lat          0.0\n",
       "Turning_Loop       0.0\n",
       "Traffic_Signal     0.0\n",
       "Traffic_Calming    0.0\n",
       "Stop               0.0\n",
       "Station            0.0\n",
       "Roundabout         0.0\n",
       "Railway            0.0\n",
       "No_Exit            0.0\n",
       "Crossing           0.0\n",
       "Give_Way           0.0\n",
       "Bump               0.0\n",
       "Amenity            0.0\n",
       "Start_Lng          0.0\n",
       "End_Lat            0.0\n",
       "End_Lng            0.0\n",
       "Distance(mi)       0.0\n",
       "Description        0.0\n",
       "Severity           0.0\n",
       "Side               0.0\n",
       "County             0.0\n",
       "State              0.0\n",
       "ID                 0.0\n",
       "dtype: float64"
      ]
     },
     "execution_count": 59,
     "metadata": {},
     "output_type": "execute_result"
    }
   ],
   "source": [
    "full_columns = missing_percentage[missing_percentage==0]\n",
    "\n",
    "full_columns"
   ]
  },
  {
   "cell_type": "code",
   "execution_count": 52,
   "id": "bcd664fe",
   "metadata": {},
   "outputs": [
    {
     "data": {
      "image/png": "[encoded data removed]",
      "text/plain": [
       "<Figure size 576x576 with 1 Axes>"
      ]
     },
     "metadata": {
      "needs_background": "light"
     },
     "output_type": "display_data"
    }
   ],
   "source": [
    "def plot_missing_percentage():\n",
    "    name = missing_percentage_only.keys()\n",
    "    value = missing_percentage_only.values()\n",
    "    ypos = np.arange(len(name))\n",
    "    fig, ax = plt.subplots()\n",
    "    hbars = ax.barh(ypos, value, align='center')\n",
    "\n",
    "    ax.set_yticks(ypos, labels=name)\n",
    "    ax.invert_yaxis()\n",
    "    ax.set_xlabel('% of Missing Values')\n",
    "    ax.set_ylabel('Columns')\n",
    "    ax.set_title('Missing Values in Dataset')\n",
    "    ax.bar_label(hbars)\n",
    "    ax.set_xlim(right=66)\n",
    "\n",
    "    fig.set_figheight(8)\n",
    "    fig.set_figwidth(8)\n",
    "\n",
    "    plt.ticklabel_format(axis='x', style='plain')\n",
    "    plt.show()\n",
    "plot_missing_percentage()"
   ]
  },
  {
   "cell_type": "markdown",
   "id": "b5ae6785",
   "metadata": {},
   "source": [
    "## Accidents per Top 12 Weather Conditions"
   ]
  },
  {
   "cell_type": "code",
   "execution_count": 20,
   "id": "de5d1f69",
   "metadata": {},
   "outputs": [
    {
     "data": {
      "text/plain": [
       "'\\nit would not be feasible to put all weather conditions and combinations onto one graph.\\nwhile it may be possible to include the combination conditions into one of the base conditions,\\nfor the current sake of simplicity, only the base conditions will be used for this entire analysis\\n'"
      ]
     },
     "execution_count": 20,
     "metadata": {},
     "output_type": "execute_result"
    }
   ],
   "source": [
    "# print(df['Weather_Condition'].unique())\n",
    "\"\"\"\n",
    "it would not be feasible to put all weather conditions and combinations onto one graph.\n",
    "while it may be possible to include the combination conditions into one of the base conditions,\n",
    "for the sake of simplicity, only the base weather conditions will be used.\n",
    "\"\"\""
   ]
  },
  {
   "cell_type": "code",
   "execution_count": 21,
   "id": "daef486f",
   "metadata": {},
   "outputs": [],
   "source": [
    "weather_condition_df = df['Weather_Condition'].value_counts().head(12)\n",
    "weather_condition_names = df['Weather_Condition'].value_counts().head(12).index.tolist()\n",
    "weather_condition_values = df['Weather_Condition'].value_counts().head(12).tolist()\n",
    "\n",
    "# print(weather_condition_df)\n",
    "# print(weather_condition_names)\n",
    "# print(weather_condition_values)"
   ]
  },
  {
   "cell_type": "code",
   "execution_count": 22,
   "id": "8fa445bc",
   "metadata": {},
   "outputs": [
    {
     "name": "stdout",
     "output_type": "stream",
     "text": [
      "Total Number of Accidents in Dataset: 2845342 (100%)\n",
      "\n",
      "Number of Accidents Without Multiple Weather Conditions: 2654475 (93.29%)\n"
     ]
    }
   ],
   "source": [
    "total_accidents = len(df)\n",
    "\n",
    "total_general = 0\n",
    "for i in weather_condition_df:\n",
    "    total_general += i\n",
    "\n",
    "print(f'Total Number of Accidents in Dataset: {total_accidents} (100%)\\n')\n",
    "print(f'Number of Accidents Without Multiple Weather Conditions: {total_general} ({round((total_general/total_accidents)*100, 2)}%)')"
   ]
  },
  {
   "cell_type": "code",
   "execution_count": 23,
   "id": "f72055fd",
   "metadata": {
    "scrolled": false
   },
   "outputs": [
    {
     "data": {
      "image/png": "[encoded data removed]",
      "text/plain": [
       "<Figure size 576x576 with 1 Axes>"
      ]
     },
     "metadata": {
      "needs_background": "light"
     },
     "output_type": "display_data"
    }
   ],
   "source": [
    "def plot_weather_accidents():\n",
    "    ypos = np.arange(len(weather_condition_names))\n",
    "    fig, ax = plt.subplots()\n",
    "    hbars = ax.barh(ypos, weather_condition_values, align='center')\n",
    "\n",
    "    ax.set_yticks(ypos, labels=weather_condition_names)\n",
    "    ax.invert_yaxis()\n",
    "    ax.set_xlabel('Number of Accidents')\n",
    "    ax.set_ylabel('Weather Condition')\n",
    "    ax.set_title('Accidents in US per Weather Condition 2016-2021')\n",
    "    ax.bar_label(hbars, fmt='%d')\n",
    "    ax.set_xlim(right=1300000)\n",
    "\n",
    "    fig.set_figheight(8)\n",
    "    fig.set_figwidth(8)\n",
    "\n",
    "    plt.ticklabel_format(axis='x', style='plain')\n",
    "    plt.show()\n",
    "    \n",
    "plot_weather_accidents()\n",
    "\n",
    "# note that the total number of accidents used in this figure\n",
    "# is about 93.3% of the number of accidents in the dataset\n",
    "# as it does not include accidents with multiple weather conditions"
   ]
  },
  {
   "cell_type": "code",
   "execution_count": 24,
   "id": "0eeae70b",
   "metadata": {},
   "outputs": [
    {
     "data": {
      "text/plain": [
       "'\\na majority of the accidents occur during \"Fair\" weather conditions, however it does also seem that cloudy conditions\\nhave a substantial number of accidents\\n'"
      ]
     },
     "execution_count": 24,
     "metadata": {},
     "output_type": "execute_result"
    }
   ],
   "source": [
    "\"\"\"\n",
    "a majority of the accidents occur during \"Fair\" weather conditions, however it does also seem that cloudy conditions\n",
    "have a substantial number of accidents\n",
    "\"\"\""
   ]
  },
  {
   "cell_type": "markdown",
   "id": "b11357be",
   "metadata": {},
   "source": [
    "## Correlation Between Severity & Weather Conditions"
   ]
  },
  {
   "cell_type": "code",
   "execution_count": 25,
   "id": "6628e787",
   "metadata": {},
   "outputs": [
    {
     "name": "stdout",
     "output_type": "stream",
     "text": [
      "[3 2 4 1]\n"
     ]
    }
   ],
   "source": [
    "print(df['Severity'].unique())\n",
    "# damage severity is rated on a scale of 1-4 on this dataset, not great for indepth analysis"
   ]
  },
  {
   "cell_type": "code",
   "execution_count": 26,
   "id": "acb0e658",
   "metadata": {
    "scrolled": true
   },
   "outputs": [],
   "source": [
    "# average severity of accident per weather condition\n",
    "def get_severity_avgs():\n",
    "    severity_avgs = {}\n",
    "    for i in weather_condition_names:\n",
    "        temp_df = df.loc[df['Weather_Condition'] == i]\n",
    "        temp_sum = temp_df['Severity'].sum()\n",
    "        temp_count = temp_df['Severity'].count()\n",
    "        temp_avg = round(temp_sum/temp_count, 3)\n",
    "        severity_avgs[i] = temp_avg\n",
    "    #     print(f'{i} {temp_avg}') \n",
    "    severity_avgs = dict(sorted(severity_avgs.items(), key = lambda x: x[1], reverse=True))\n",
    "    return severity_avgs\n",
    "\n",
    "severity_avgs = get_severity_avgs()\n",
    "# print(severity_avgs)"
   ]
  },
  {
   "cell_type": "code",
   "execution_count": 27,
   "id": "9b1294a4",
   "metadata": {},
   "outputs": [
    {
     "data": {
      "image/png": "[encoded data removed]",
      "text/plain": [
       "<Figure size 576x576 with 1 Axes>"
      ]
     },
     "metadata": {
      "needs_background": "light"
     },
     "output_type": "display_data"
    }
   ],
   "source": [
    "def plot_sev_weath_correlation():\n",
    "    condition = list(severity_avgs.keys())\n",
    "    severity = list(severity_avgs.values())\n",
    "\n",
    "    ypos = np.arange(len(condition))\n",
    "    fig, ax = plt.subplots()\n",
    "    hbars = ax.barh(ypos, severity, align='center')\n",
    "\n",
    "    ax.set_yticks(ypos, labels=weather_condition_names)\n",
    "    ax.invert_yaxis()\n",
    "    ax.set_xlabel('Average Severity (1-4)')\n",
    "    ax.set_ylabel('Weather Condition')\n",
    "    ax.set_title('Severity of Accident per Weather Condition 2016-2021')\n",
    "    ax.bar_label(hbars, fmt='%g')\n",
    "    ax.set_xlim(left=1, right=3)\n",
    "\n",
    "    fig.set_figheight(8)\n",
    "    fig.set_figwidth(8)\n",
    "\n",
    "    plt.ticklabel_format(axis='x', style='plain')\n",
    "    plt.show()\n",
    "\n",
    "plot_sev_weath_correlation()"
   ]
  },
  {
   "cell_type": "code",
   "execution_count": 28,
   "id": "7a1de164",
   "metadata": {},
   "outputs": [
    {
     "data": {
      "text/plain": [
       "'\\nthe \"Fair\" weather condition seems to also have the most severe accidents on average.\\nadditionally, there seems to be a correlation between the high number of accidents\\nand higher average severity under cloudy conditions.\\n'"
      ]
     },
     "execution_count": 28,
     "metadata": {},
     "output_type": "execute_result"
    }
   ],
   "source": [
    "\"\"\"\n",
    "the \"Fair\" weather condition seems to also have the most severe accidents on average.\n",
    "additionally, there seems to be a correlation between the high number of accidents\n",
    "and higher average severity under cloudy conditions.\n",
    "\"\"\""
   ]
  },
  {
   "cell_type": "markdown",
   "id": "0dea01ce",
   "metadata": {},
   "source": [
    "# Severity Percentages"
   ]
  },
  {
   "cell_type": "code",
   "execution_count": 29,
   "id": "3a8d1465",
   "metadata": {},
   "outputs": [
    {
     "data": {
      "text/plain": [
       "'\\nseverity is ranked from a scale of 1-4\\nthere are no titles to these rankings so these arbritrary ones below will be used\\n1: minor\\n2: moderate\\n3: severe\\n4: extremely severe\\n'"
      ]
     },
     "execution_count": 29,
     "metadata": {},
     "output_type": "execute_result"
    }
   ],
   "source": [
    "\"\"\"\n",
    "severity is ranked from a scale of 1-4\n",
    "there are no titles to these rankings so these arbritrary ones below will be used\n",
    "1: minor\n",
    "2: moderate\n",
    "3: severe\n",
    "4: extremely severe\n",
    "\"\"\""
   ]
  },
  {
   "cell_type": "code",
   "execution_count": 30,
   "id": "a3a74527",
   "metadata": {},
   "outputs": [
    {
     "name": "stdout",
     "output_type": "stream",
     "text": [
      "{2: 2363181.0, 3: 144945.0, 4: 121631.0, 1: 24718.0}\n"
     ]
    }
   ],
   "source": [
    "def get_severity_count():\n",
    "    temp_series = pd.Series(dtype=float)\n",
    "    for i in weather_condition_names:\n",
    "        temp_df = df.loc[df['Weather_Condition'] == i]\n",
    "        temp_count = temp_df['Severity'].value_counts().sort_index()\n",
    "        temp_series = temp_series.add(temp_count, fill_value=0)\n",
    "    temp_series = dict(sorted(temp_series.items(), key = lambda x: x[1], reverse=True))\n",
    "    return temp_series\n",
    "\n",
    "severity_count = get_severity_count()\n",
    "print(severity_count)"
   ]
  },
  {
   "cell_type": "code",
   "execution_count": 31,
   "id": "5b0a4b3e",
   "metadata": {},
   "outputs": [
    {
     "data": {
      "image/png": "[encoded data removed]",
      "text/plain": [
       "<Figure size 504x504 with 1 Axes>"
      ]
     },
     "metadata": {},
     "output_type": "display_data"
    }
   ],
   "source": [
    "def plot_severity_percentages():\n",
    "    labels = list(severity_count.keys())\n",
    "    sizes = list(severity_count.values())\n",
    "    explode = (0.1, 0.2, 0.2, 0.2)\n",
    "\n",
    "    fig1, ax1 = plt.subplots(figsize=(7,7))\n",
    "    ax1.pie(sizes, explode=explode, startangle=90)\n",
    "    ax1.axis('equal')\n",
    "    ax1.set_title('Accident Severity Percentages')\n",
    "\n",
    "    plt.legend(\n",
    "        loc='upper right',\n",
    "        labels=['%s, %1.1f%%' % (\n",
    "            l, (float(s) / total_general) * 100) for l, s in zip(labels, sizes)],\n",
    "        prop={'size': 15},\n",
    "        bbox_to_anchor=(0.05, 0.7),\n",
    "    )\n",
    "\n",
    "\n",
    "    plt.show()\n",
    "\n",
    "plot_severity_percentages()"
   ]
  },
  {
   "cell_type": "code",
   "execution_count": 32,
   "id": "400343a6",
   "metadata": {},
   "outputs": [
    {
     "data": {
      "text/plain": [
       "'\\nthe majority (89%) of accidents were of moderate severity (2), and the greatest\\nminority was of minor severity (1).\\n'"
      ]
     },
     "execution_count": 32,
     "metadata": {},
     "output_type": "execute_result"
    }
   ],
   "source": [
    "\"\"\"\n",
    "the majority (89%) of accidents were of moderate severity (2), and the greatest\n",
    "minority was of minor severity (1).\n",
    "\"\"\""
   ]
  },
  {
   "cell_type": "markdown",
   "id": "60da1e06",
   "metadata": {},
   "source": [
    "## Correlation Between Number of Accidents & Population Density"
   ]
  },
  {
   "cell_type": "code",
   "execution_count": null,
   "id": "8067f522",
   "metadata": {},
   "outputs": [],
   "source": []
  },
  {
   "cell_type": "markdown",
   "id": "8cbe04c2",
   "metadata": {},
   "source": [
    "## Time of Day when Accidents Occur Most Often"
   ]
  },
  {
   "cell_type": "code",
   "execution_count": null,
   "id": "38be220f",
   "metadata": {},
   "outputs": [],
   "source": []
  }
 ],
 "metadata": {
  "kernelspec": {
   "display_name": "Python 3 (ipykernel)",
   "language": "python",
   "name": "python3"
  },
  "language_info": {
   "codemirror_mode": {
    "name": "ipython",
    "version": 3
   },
   "file_extension": ".py",
   "mimetype": "text/x-python",
   "name": "python",
   "nbconvert_exporter": "python",
   "pygments_lexer": "ipython3",
   "version": "3.9.6"
  }
 },
 "nbformat": 4,
 "nbformat_minor": 5
}
