{
 "cells": [
  {
   "cell_type": "markdown",
   "id": "dbf22991",
   "metadata": {},
   "source": [
    "# Accidents Analysis"
   ]
  },
  {
   "cell_type": "markdown",
   "id": "892dbf26",
   "metadata": {},
   "source": [
    "## Setup"
   ]
  },
  {
   "cell_type": "code",
   "execution_count": 2,
   "id": "83db47bf",
   "metadata": {
    "scrolled": true
   },
   "outputs": [
    {
     "data": {
      "text/html": [
       "<div>\n",
       "<style scoped>\n",
       "    .dataframe tbody tr th:only-of-type {\n",
       "        vertical-align: middle;\n",
       "    }\n",
       "\n",
       "    .dataframe tbody tr th {\n",
       "        vertical-align: top;\n",
       "    }\n",
       "\n",
       "    .dataframe thead th {\n",
       "        text-align: right;\n",
       "    }\n",
       "</style>\n",
       "<table border=\"1\" class=\"dataframe\">\n",
       "  <thead>\n",
       "    <tr style=\"text-align: right;\">\n",
       "      <th></th>\n",
       "      <th>ID</th>\n",
       "      <th>Severity</th>\n",
       "      <th>Start_Time</th>\n",
       "      <th>End_Time</th>\n",
       "      <th>Start_Lat</th>\n",
       "      <th>Start_Lng</th>\n",
       "      <th>End_Lat</th>\n",
       "      <th>End_Lng</th>\n",
       "      <th>Distance(mi)</th>\n",
       "      <th>Description</th>\n",
       "      <th>...</th>\n",
       "      <th>Roundabout</th>\n",
       "      <th>Station</th>\n",
       "      <th>Stop</th>\n",
       "      <th>Traffic_Calming</th>\n",
       "      <th>Traffic_Signal</th>\n",
       "      <th>Turning_Loop</th>\n",
       "      <th>Sunrise_Sunset</th>\n",
       "      <th>Civil_Twilight</th>\n",
       "      <th>Nautical_Twilight</th>\n",
       "      <th>Astronomical_Twilight</th>\n",
       "    </tr>\n",
       "  </thead>\n",
       "  <tbody>\n",
       "    <tr>\n",
       "      <th>0</th>\n",
       "      <td>A-1</td>\n",
       "      <td>3</td>\n",
       "      <td>2016-02-08 00:37:08</td>\n",
       "      <td>2016-02-08 06:37:08</td>\n",
       "      <td>40.108910</td>\n",
       "      <td>-83.092860</td>\n",
       "      <td>40.112060</td>\n",
       "      <td>-83.031870</td>\n",
       "      <td>3.230</td>\n",
       "      <td>Between Sawmill Rd/Exit 20 and OH-315/Olentang...</td>\n",
       "      <td>...</td>\n",
       "      <td>False</td>\n",
       "      <td>False</td>\n",
       "      <td>False</td>\n",
       "      <td>False</td>\n",
       "      <td>False</td>\n",
       "      <td>False</td>\n",
       "      <td>Night</td>\n",
       "      <td>Night</td>\n",
       "      <td>Night</td>\n",
       "      <td>Night</td>\n",
       "    </tr>\n",
       "    <tr>\n",
       "      <th>1</th>\n",
       "      <td>A-2</td>\n",
       "      <td>2</td>\n",
       "      <td>2016-02-08 05:56:20</td>\n",
       "      <td>2016-02-08 11:56:20</td>\n",
       "      <td>39.865420</td>\n",
       "      <td>-84.062800</td>\n",
       "      <td>39.865010</td>\n",
       "      <td>-84.048730</td>\n",
       "      <td>0.747</td>\n",
       "      <td>At OH-4/OH-235/Exit 41 - Accident.</td>\n",
       "      <td>...</td>\n",
       "      <td>False</td>\n",
       "      <td>False</td>\n",
       "      <td>False</td>\n",
       "      <td>False</td>\n",
       "      <td>False</td>\n",
       "      <td>False</td>\n",
       "      <td>Night</td>\n",
       "      <td>Night</td>\n",
       "      <td>Night</td>\n",
       "      <td>Night</td>\n",
       "    </tr>\n",
       "    <tr>\n",
       "      <th>2</th>\n",
       "      <td>A-3</td>\n",
       "      <td>2</td>\n",
       "      <td>2016-02-08 06:15:39</td>\n",
       "      <td>2016-02-08 12:15:39</td>\n",
       "      <td>39.102660</td>\n",
       "      <td>-84.524680</td>\n",
       "      <td>39.102090</td>\n",
       "      <td>-84.523960</td>\n",
       "      <td>0.055</td>\n",
       "      <td>At I-71/US-50/Exit 1 - Accident.</td>\n",
       "      <td>...</td>\n",
       "      <td>False</td>\n",
       "      <td>False</td>\n",
       "      <td>False</td>\n",
       "      <td>False</td>\n",
       "      <td>False</td>\n",
       "      <td>False</td>\n",
       "      <td>Night</td>\n",
       "      <td>Night</td>\n",
       "      <td>Night</td>\n",
       "      <td>Day</td>\n",
       "    </tr>\n",
       "    <tr>\n",
       "      <th>3</th>\n",
       "      <td>A-4</td>\n",
       "      <td>2</td>\n",
       "      <td>2016-02-08 06:51:45</td>\n",
       "      <td>2016-02-08 12:51:45</td>\n",
       "      <td>41.062130</td>\n",
       "      <td>-81.537840</td>\n",
       "      <td>41.062170</td>\n",
       "      <td>-81.535470</td>\n",
       "      <td>0.123</td>\n",
       "      <td>At Dart Ave/Exit 21 - Accident.</td>\n",
       "      <td>...</td>\n",
       "      <td>False</td>\n",
       "      <td>False</td>\n",
       "      <td>False</td>\n",
       "      <td>False</td>\n",
       "      <td>False</td>\n",
       "      <td>False</td>\n",
       "      <td>Night</td>\n",
       "      <td>Night</td>\n",
       "      <td>Day</td>\n",
       "      <td>Day</td>\n",
       "    </tr>\n",
       "    <tr>\n",
       "      <th>4</th>\n",
       "      <td>A-5</td>\n",
       "      <td>3</td>\n",
       "      <td>2016-02-08 07:53:43</td>\n",
       "      <td>2016-02-08 13:53:43</td>\n",
       "      <td>39.172393</td>\n",
       "      <td>-84.492792</td>\n",
       "      <td>39.170476</td>\n",
       "      <td>-84.501798</td>\n",
       "      <td>0.500</td>\n",
       "      <td>At Mitchell Ave/Exit 6 - Accident.</td>\n",
       "      <td>...</td>\n",
       "      <td>False</td>\n",
       "      <td>False</td>\n",
       "      <td>False</td>\n",
       "      <td>False</td>\n",
       "      <td>False</td>\n",
       "      <td>False</td>\n",
       "      <td>Day</td>\n",
       "      <td>Day</td>\n",
       "      <td>Day</td>\n",
       "      <td>Day</td>\n",
       "    </tr>\n",
       "    <tr>\n",
       "      <th>...</th>\n",
       "      <td>...</td>\n",
       "      <td>...</td>\n",
       "      <td>...</td>\n",
       "      <td>...</td>\n",
       "      <td>...</td>\n",
       "      <td>...</td>\n",
       "      <td>...</td>\n",
       "      <td>...</td>\n",
       "      <td>...</td>\n",
       "      <td>...</td>\n",
       "      <td>...</td>\n",
       "      <td>...</td>\n",
       "      <td>...</td>\n",
       "      <td>...</td>\n",
       "      <td>...</td>\n",
       "      <td>...</td>\n",
       "      <td>...</td>\n",
       "      <td>...</td>\n",
       "      <td>...</td>\n",
       "      <td>...</td>\n",
       "      <td>...</td>\n",
       "    </tr>\n",
       "    <tr>\n",
       "      <th>2845337</th>\n",
       "      <td>A-2845338</td>\n",
       "      <td>2</td>\n",
       "      <td>2019-08-23 18:03:25</td>\n",
       "      <td>2019-08-23 18:32:01</td>\n",
       "      <td>34.002480</td>\n",
       "      <td>-117.379360</td>\n",
       "      <td>33.998880</td>\n",
       "      <td>-117.370940</td>\n",
       "      <td>0.543</td>\n",
       "      <td>At Market St - Accident.</td>\n",
       "      <td>...</td>\n",
       "      <td>False</td>\n",
       "      <td>False</td>\n",
       "      <td>False</td>\n",
       "      <td>False</td>\n",
       "      <td>False</td>\n",
       "      <td>False</td>\n",
       "      <td>Day</td>\n",
       "      <td>Day</td>\n",
       "      <td>Day</td>\n",
       "      <td>Day</td>\n",
       "    </tr>\n",
       "    <tr>\n",
       "      <th>2845338</th>\n",
       "      <td>A-2845339</td>\n",
       "      <td>2</td>\n",
       "      <td>2019-08-23 19:11:30</td>\n",
       "      <td>2019-08-23 19:38:23</td>\n",
       "      <td>32.766960</td>\n",
       "      <td>-117.148060</td>\n",
       "      <td>32.765550</td>\n",
       "      <td>-117.153630</td>\n",
       "      <td>0.338</td>\n",
       "      <td>At Camino Del Rio/Mission Center Rd - Accident.</td>\n",
       "      <td>...</td>\n",
       "      <td>False</td>\n",
       "      <td>False</td>\n",
       "      <td>False</td>\n",
       "      <td>False</td>\n",
       "      <td>False</td>\n",
       "      <td>False</td>\n",
       "      <td>Day</td>\n",
       "      <td>Day</td>\n",
       "      <td>Day</td>\n",
       "      <td>Day</td>\n",
       "    </tr>\n",
       "    <tr>\n",
       "      <th>2845339</th>\n",
       "      <td>A-2845340</td>\n",
       "      <td>2</td>\n",
       "      <td>2019-08-23 19:00:21</td>\n",
       "      <td>2019-08-23 19:28:49</td>\n",
       "      <td>33.775450</td>\n",
       "      <td>-117.847790</td>\n",
       "      <td>33.777400</td>\n",
       "      <td>-117.857270</td>\n",
       "      <td>0.561</td>\n",
       "      <td>At Glassell St/Grand Ave - Accident. in the ri...</td>\n",
       "      <td>...</td>\n",
       "      <td>False</td>\n",
       "      <td>False</td>\n",
       "      <td>False</td>\n",
       "      <td>False</td>\n",
       "      <td>False</td>\n",
       "      <td>False</td>\n",
       "      <td>Day</td>\n",
       "      <td>Day</td>\n",
       "      <td>Day</td>\n",
       "      <td>Day</td>\n",
       "    </tr>\n",
       "    <tr>\n",
       "      <th>2845340</th>\n",
       "      <td>A-2845341</td>\n",
       "      <td>2</td>\n",
       "      <td>2019-08-23 19:00:21</td>\n",
       "      <td>2019-08-23 19:29:42</td>\n",
       "      <td>33.992460</td>\n",
       "      <td>-118.403020</td>\n",
       "      <td>33.983110</td>\n",
       "      <td>-118.395650</td>\n",
       "      <td>0.772</td>\n",
       "      <td>At CA-90/Marina Fwy/Jefferson Blvd - Accident.</td>\n",
       "      <td>...</td>\n",
       "      <td>False</td>\n",
       "      <td>False</td>\n",
       "      <td>False</td>\n",
       "      <td>False</td>\n",
       "      <td>False</td>\n",
       "      <td>False</td>\n",
       "      <td>Day</td>\n",
       "      <td>Day</td>\n",
       "      <td>Day</td>\n",
       "      <td>Day</td>\n",
       "    </tr>\n",
       "    <tr>\n",
       "      <th>2845341</th>\n",
       "      <td>A-2845342</td>\n",
       "      <td>2</td>\n",
       "      <td>2019-08-23 18:52:06</td>\n",
       "      <td>2019-08-23 19:21:31</td>\n",
       "      <td>34.133930</td>\n",
       "      <td>-117.230920</td>\n",
       "      <td>34.137360</td>\n",
       "      <td>-117.239340</td>\n",
       "      <td>0.537</td>\n",
       "      <td>At Highland Ave/Arden Ave - Accident.</td>\n",
       "      <td>...</td>\n",
       "      <td>False</td>\n",
       "      <td>False</td>\n",
       "      <td>False</td>\n",
       "      <td>False</td>\n",
       "      <td>False</td>\n",
       "      <td>False</td>\n",
       "      <td>Day</td>\n",
       "      <td>Day</td>\n",
       "      <td>Day</td>\n",
       "      <td>Day</td>\n",
       "    </tr>\n",
       "  </tbody>\n",
       "</table>\n",
       "<p>2845342 rows × 47 columns</p>\n",
       "</div>"
      ],
      "text/plain": [
       "                ID  Severity           Start_Time             End_Time  \\\n",
       "0              A-1         3  2016-02-08 00:37:08  2016-02-08 06:37:08   \n",
       "1              A-2         2  2016-02-08 05:56:20  2016-02-08 11:56:20   \n",
       "2              A-3         2  2016-02-08 06:15:39  2016-02-08 12:15:39   \n",
       "3              A-4         2  2016-02-08 06:51:45  2016-02-08 12:51:45   \n",
       "4              A-5         3  2016-02-08 07:53:43  2016-02-08 13:53:43   \n",
       "...            ...       ...                  ...                  ...   \n",
       "2845337  A-2845338         2  2019-08-23 18:03:25  2019-08-23 18:32:01   \n",
       "2845338  A-2845339         2  2019-08-23 19:11:30  2019-08-23 19:38:23   \n",
       "2845339  A-2845340         2  2019-08-23 19:00:21  2019-08-23 19:28:49   \n",
       "2845340  A-2845341         2  2019-08-23 19:00:21  2019-08-23 19:29:42   \n",
       "2845341  A-2845342         2  2019-08-23 18:52:06  2019-08-23 19:21:31   \n",
       "\n",
       "         Start_Lat   Start_Lng    End_Lat     End_Lng  Distance(mi)  \\\n",
       "0        40.108910  -83.092860  40.112060  -83.031870         3.230   \n",
       "1        39.865420  -84.062800  39.865010  -84.048730         0.747   \n",
       "2        39.102660  -84.524680  39.102090  -84.523960         0.055   \n",
       "3        41.062130  -81.537840  41.062170  -81.535470         0.123   \n",
       "4        39.172393  -84.492792  39.170476  -84.501798         0.500   \n",
       "...            ...         ...        ...         ...           ...   \n",
       "2845337  34.002480 -117.379360  33.998880 -117.370940         0.543   \n",
       "2845338  32.766960 -117.148060  32.765550 -117.153630         0.338   \n",
       "2845339  33.775450 -117.847790  33.777400 -117.857270         0.561   \n",
       "2845340  33.992460 -118.403020  33.983110 -118.395650         0.772   \n",
       "2845341  34.133930 -117.230920  34.137360 -117.239340         0.537   \n",
       "\n",
       "                                               Description  ...  Roundabout  \\\n",
       "0        Between Sawmill Rd/Exit 20 and OH-315/Olentang...  ...       False   \n",
       "1                       At OH-4/OH-235/Exit 41 - Accident.  ...       False   \n",
       "2                         At I-71/US-50/Exit 1 - Accident.  ...       False   \n",
       "3                          At Dart Ave/Exit 21 - Accident.  ...       False   \n",
       "4                       At Mitchell Ave/Exit 6 - Accident.  ...       False   \n",
       "...                                                    ...  ...         ...   \n",
       "2845337                           At Market St - Accident.  ...       False   \n",
       "2845338    At Camino Del Rio/Mission Center Rd - Accident.  ...       False   \n",
       "2845339  At Glassell St/Grand Ave - Accident. in the ri...  ...       False   \n",
       "2845340     At CA-90/Marina Fwy/Jefferson Blvd - Accident.  ...       False   \n",
       "2845341              At Highland Ave/Arden Ave - Accident.  ...       False   \n",
       "\n",
       "        Station   Stop Traffic_Calming Traffic_Signal Turning_Loop  \\\n",
       "0         False  False           False          False        False   \n",
       "1         False  False           False          False        False   \n",
       "2         False  False           False          False        False   \n",
       "3         False  False           False          False        False   \n",
       "4         False  False           False          False        False   \n",
       "...         ...    ...             ...            ...          ...   \n",
       "2845337   False  False           False          False        False   \n",
       "2845338   False  False           False          False        False   \n",
       "2845339   False  False           False          False        False   \n",
       "2845340   False  False           False          False        False   \n",
       "2845341   False  False           False          False        False   \n",
       "\n",
       "        Sunrise_Sunset Civil_Twilight Nautical_Twilight Astronomical_Twilight  \n",
       "0                Night          Night             Night                 Night  \n",
       "1                Night          Night             Night                 Night  \n",
       "2                Night          Night             Night                   Day  \n",
       "3                Night          Night               Day                   Day  \n",
       "4                  Day            Day               Day                   Day  \n",
       "...                ...            ...               ...                   ...  \n",
       "2845337            Day            Day               Day                   Day  \n",
       "2845338            Day            Day               Day                   Day  \n",
       "2845339            Day            Day               Day                   Day  \n",
       "2845340            Day            Day               Day                   Day  \n",
       "2845341            Day            Day               Day                   Day  \n",
       "\n",
       "[2845342 rows x 47 columns]"
      ]
     },
     "execution_count": 2,
     "metadata": {},
     "output_type": "execute_result"
    }
   ],
   "source": [
    "import pandas as pd\n",
    "import numpy as np\n",
    "import matplotlib.pyplot as plt\n",
    "\n",
    "plt.close('all')\n",
    "\n",
    "df = pd.read_csv('accidents_data.csv')\n",
    "\n",
    "df"
   ]
  },
  {
   "cell_type": "code",
   "execution_count": 3,
   "id": "2c23c2ab",
   "metadata": {
    "scrolled": true
   },
   "outputs": [
    {
     "name": "stdout",
     "output_type": "stream",
     "text": [
      "ID\n",
      "Severity\n",
      "Start_Time\n",
      "End_Time\n",
      "Start_Lat\n",
      "Start_Lng\n",
      "End_Lat\n",
      "End_Lng\n",
      "Distance(mi)\n",
      "Description\n",
      "Number\n",
      "Street\n",
      "Side\n",
      "City\n",
      "County\n",
      "State\n",
      "Zipcode\n",
      "Country\n",
      "Timezone\n",
      "Airport_Code\n",
      "Weather_Timestamp\n",
      "Temperature(F)\n",
      "Wind_Chill(F)\n",
      "Humidity(%)\n",
      "Pressure(in)\n",
      "Visibility(mi)\n",
      "Wind_Direction\n",
      "Wind_Speed(mph)\n",
      "Precipitation(in)\n",
      "Weather_Condition\n",
      "Amenity\n",
      "Bump\n",
      "Crossing\n",
      "Give_Way\n",
      "Junction\n",
      "No_Exit\n",
      "Railway\n",
      "Roundabout\n",
      "Station\n",
      "Stop\n",
      "Traffic_Calming\n",
      "Traffic_Signal\n",
      "Turning_Loop\n",
      "Sunrise_Sunset\n",
      "Civil_Twilight\n",
      "Nautical_Twilight\n",
      "Astronomical_Twilight\n"
     ]
    }
   ],
   "source": [
    "# Finding all columns\n",
    "for col in df.columns:\n",
    "    print(col)"
   ]
  },
  {
   "cell_type": "code",
   "execution_count": 4,
   "id": "cd32486a",
   "metadata": {},
   "outputs": [],
   "source": [
    "# Questions\n",
    "# What are the accident rates for different weather conditions?\n",
    "# What time of day do accidents occur most often?\n",
    "# Which state has the most accidents?\n",
    "# Top 15 most accident prone streets/roads"
   ]
  },
  {
   "cell_type": "markdown",
   "id": "b5ae6785",
   "metadata": {},
   "source": [
    "## Accidents per Top 12 Weather Conditions"
   ]
  },
  {
   "cell_type": "code",
   "execution_count": 5,
   "id": "de5d1f69",
   "metadata": {},
   "outputs": [
    {
     "data": {
      "text/plain": [
       "'\\nit would not be feasible to put all weather conditions and combinations onto one graph.\\nwhile it may be possible to include the combination conditions into one of the base conditions,\\nfor the current sake of simplicity, only the base conditions will be used for this analysis\\n'"
      ]
     },
     "execution_count": 5,
     "metadata": {},
     "output_type": "execute_result"
    }
   ],
   "source": [
    "# print(df['Weather_Condition'].unique())\n",
    "\"\"\"\n",
    "it would not be feasible to put all weather conditions and combinations onto one graph.\n",
    "while it may be possible to include the combination conditions into one of the base conditions,\n",
    "for the current sake of simplicity, only the base conditions will be used for this entire analysis\n",
    "\"\"\""
   ]
  },
  {
   "cell_type": "code",
   "execution_count": 6,
   "id": "daef486f",
   "metadata": {},
   "outputs": [],
   "source": [
    "weather_condition_df = df['Weather_Condition'].value_counts().head(12)\n",
    "weather_condition_names = df['Weather_Condition'].value_counts().head(12).index.tolist()\n",
    "weather_condition_values = df['Weather_Condition'].value_counts().head(12).tolist()\n",
    "\n",
    "# print(weather_condition_df)\n",
    "# print(weather_condition_names)\n",
    "# print(weather_condition_values)"
   ]
  },
  {
   "cell_type": "code",
   "execution_count": 7,
   "id": "8fa445bc",
   "metadata": {},
   "outputs": [
    {
     "name": "stdout",
     "output_type": "stream",
     "text": [
      "Total Number of Accidents in Dataset: 2774706 (100%)\n",
      "\n",
      "Number of Accidents Without Multiple Weather Conditions: 2654475 (95.67%)\n"
     ]
    }
   ],
   "source": [
    "total_accidents = df['Weather_Condition'].value_counts().sum()\n",
    "\n",
    "total_general = 0\n",
    "for i in weather_condition_df:\n",
    "    total_general += i\n",
    "\n",
    "print(f'Total Number of Accidents in Dataset: {total_accidents} (100%)\\n')\n",
    "print(f'Number of Accidents Without Multiple Weather Conditions: {total_general} ({round((total_general/total_accidents)*100, 2)}%)')"
   ]
  },
  {
   "cell_type": "code",
   "execution_count": 179,
   "id": "f72055fd",
   "metadata": {
    "scrolled": false
   },
   "outputs": [
    {
     "data": {
      "image/png": "[encoded data removed]",
      "text/plain": [
       "<Figure size 576x576 with 1 Axes>"
      ]
     },
     "metadata": {
      "needs_background": "light"
     },
     "output_type": "display_data"
    }
   ],
   "source": [
    "def plot_weather_accidents():\n",
    "    ypos = np.arange(len(weather_condition_names))\n",
    "    fig, ax = plt.subplots()\n",
    "    hbars = ax.barh(ypos, weather_condition_values, align='center')\n",
    "\n",
    "    ax.set_yticks(ypos, labels=weather_condition_names)\n",
    "    ax.invert_yaxis()\n",
    "    ax.set_xlabel('Number of Accidents')\n",
    "    ax.set_ylabel('Weather Condition')\n",
    "    ax.set_title('Accidents in US per Weather Condition 2016-2021')\n",
    "    ax.bar_label(hbars, fmt='%d')\n",
    "    ax.set_xlim(right=1300000)\n",
    "\n",
    "    fig.set_figheight(8)\n",
    "    fig.set_figwidth(8)\n",
    "\n",
    "    plt.ticklabel_format(axis='x', style='plain')\n",
    "    plt.show()\n",
    "    \n",
    "plot_weather_accidents()\n",
    "\n",
    "# note that the total number of accidents used in this figure\n",
    "# is about 95.7% of the number of accidents in the dataset\n",
    "# as it does not include accidents with multiple weather conditions"
   ]
  },
  {
   "cell_type": "code",
   "execution_count": 9,
   "id": "0eeae70b",
   "metadata": {},
   "outputs": [
    {
     "data": {
      "text/plain": [
       "'\\na majority of the accidents occur during \"Fair\" weather conditions, however it does also seem that cloudy conditions\\nhave a substantial number of accidents\\n'"
      ]
     },
     "execution_count": 9,
     "metadata": {},
     "output_type": "execute_result"
    }
   ],
   "source": [
    "\"\"\"\n",
    "a majority of the accidents occur during \"Fair\" weather conditions, however it does also seem that cloudy conditions\n",
    "have a substantial number of accidents\n",
    "\"\"\""
   ]
  },
  {
   "cell_type": "markdown",
   "id": "b11357be",
   "metadata": {},
   "source": [
    "## Correlation Between Severity & Weather Conditions"
   ]
  },
  {
   "cell_type": "code",
   "execution_count": 10,
   "id": "6628e787",
   "metadata": {},
   "outputs": [
    {
     "name": "stdout",
     "output_type": "stream",
     "text": [
      "[3 2 4 1]\n"
     ]
    }
   ],
   "source": [
    "print(df['Severity'].unique())\n",
    "# damage severity is rated on a scale of 1-4 on this dataset, not great for indepth analysis"
   ]
  },
  {
   "cell_type": "code",
   "execution_count": 63,
   "id": "acb0e658",
   "metadata": {
    "scrolled": true
   },
   "outputs": [
    {
     "name": "stdout",
     "output_type": "stream",
     "text": [
      "{'Overcast': 2.502, 'Clear': 2.463, 'Scattered Clouds': 2.443, 'Light Snow': 2.197, 'Light Rain': 2.151, 'Mostly Cloudy': 2.141, 'Partly Cloudy': 2.135, 'Rain': 2.134, 'Fog': 2.093, 'Cloudy': 2.087, 'Haze': 2.079, 'Fair': 2.06}\n"
     ]
    }
   ],
   "source": [
    "# average severity of accident per weather condition\n",
    "def get_severity_avgs():\n",
    "    severity_avgs = {}\n",
    "    for i in weather_condition_names:\n",
    "        temp_df = df.loc[df['Weather_Condition'] == i]\n",
    "        temp_sum = temp_df['Severity'].sum()\n",
    "        temp_count = temp_df['Severity'].count()\n",
    "        temp_avg = round(temp_sum/temp_count, 3)\n",
    "        severity_avgs[i] = temp_avg\n",
    "    #     print(f'{i} {temp_avg}') \n",
    "    severity_avgs = dict(sorted(severity_avgs.items(), key = lambda x: x[1], reverse=True))\n",
    "    return severity_avgs\n",
    "\n",
    "severity_avgs = get_severity_avgs()\n",
    "# print(severity_avgs)"
   ]
  },
  {
   "cell_type": "code",
   "execution_count": 12,
   "id": "9b1294a4",
   "metadata": {},
   "outputs": [
    {
     "data": {
      "image/png": "[encoded data removed]",
      "text/plain": [
       "<Figure size 576x576 with 1 Axes>"
      ]
     },
     "metadata": {
      "needs_background": "light"
     },
     "output_type": "display_data"
    }
   ],
   "source": [
    "def plot_sev_weath_correlation():\n",
    "    condition = list(severity_avgs.keys())\n",
    "    severity = list(severity_avgs.values())\n",
    "\n",
    "    ypos = np.arange(len(condition))\n",
    "    fig, ax = plt.subplots()\n",
    "    hbars = ax.barh(ypos, severity, align='center')\n",
    "\n",
    "    ax.set_yticks(ypos, labels=weather_condition_names)\n",
    "    ax.invert_yaxis()\n",
    "    ax.set_xlabel('Average Severity (1-4)')\n",
    "    ax.set_ylabel('Weather Condition')\n",
    "    ax.set_title('Severity of Accident per Weather Condition 2016-2021')\n",
    "    ax.bar_label(hbars, fmt='%g')\n",
    "    ax.set_xlim(left=1, right=3)\n",
    "\n",
    "    fig.set_figheight(8)\n",
    "    fig.set_figwidth(8)\n",
    "\n",
    "    plt.ticklabel_format(axis='x', style='plain')\n",
    "    plt.show()\n",
    "\n",
    "plot_sev_weath_correlation()"
   ]
  },
  {
   "cell_type": "code",
   "execution_count": 13,
   "id": "7a1de164",
   "metadata": {},
   "outputs": [
    {
     "data": {
      "text/plain": [
       "'\\nthe \"Fair\" weather condition seems to also have the most severe accidents on average.\\nadditionally, there seems to be a correlation between the high number of accidents\\nand higher average severity under cloudy conditions.\\n'"
      ]
     },
     "execution_count": 13,
     "metadata": {},
     "output_type": "execute_result"
    }
   ],
   "source": [
    "\"\"\"\n",
    "the \"Fair\" weather condition seems to also have the most severe accidents on average.\n",
    "additionally, there seems to be a correlation between the high number of accidents\n",
    "and higher average severity under cloudy conditions.\n",
    "\"\"\""
   ]
  },
  {
   "cell_type": "markdown",
   "id": "0dea01ce",
   "metadata": {},
   "source": [
    "# Severity Percentages"
   ]
  },
  {
   "cell_type": "code",
   "execution_count": null,
   "id": "3a8d1465",
   "metadata": {},
   "outputs": [],
   "source": [
    "\"\"\"\n",
    "severity is ranked from a scale of 1-4\n",
    "there are no titles to these rankings so these arbritrary ones below will be used\n",
    "1: minor\n",
    "2: moderate\n",
    "3: severe\n",
    "4: extremely severe\n",
    "\"\"\""
   ]
  },
  {
   "cell_type": "code",
   "execution_count": 65,
   "id": "a3a74527",
   "metadata": {},
   "outputs": [
    {
     "name": "stdout",
     "output_type": "stream",
     "text": [
      "{2: 2363181.0, 3: 144945.0, 4: 121631.0, 1: 24718.0}\n"
     ]
    }
   ],
   "source": [
    "def get_severity_count():\n",
    "    temp_series = pd.Series(dtype=float)\n",
    "    for i in weather_condition_names:\n",
    "        temp_df = df.loc[df['Weather_Condition'] == i]\n",
    "        temp_count = temp_df['Severity'].value_counts().sort_index()\n",
    "        temp_series = temp_series.add(temp_count, fill_value=0)\n",
    "    temp_series = dict(sorted(temp_series.items(), key = lambda x: x[1], reverse=True))\n",
    "    return temp_series\n",
    "\n",
    "severity_count = get_severity_count()\n",
    "print(severity_count)"
   ]
  },
  {
   "cell_type": "code",
   "execution_count": 178,
   "id": "5b0a4b3e",
   "metadata": {},
   "outputs": [
    {
     "data": {
      "image/png": "[encoded data removed]",
      "text/plain": [
       "<Figure size 504x504 with 1 Axes>"
      ]
     },
     "metadata": {},
     "output_type": "display_data"
    }
   ],
   "source": [
    "def plot_severity_percentages():\n",
    "    labels = list(severity_count.keys())\n",
    "    sizes = list(severity_count.values())\n",
    "    explode = (0.1, 0.2, 0.2, 0.2)\n",
    "\n",
    "    fig1, ax1 = plt.subplots(figsize=(7,7))\n",
    "    ax1.pie(sizes, explode=explode, startangle=90)\n",
    "    ax1.axis('equal')\n",
    "    ax1.set_title('Accident Severity Percentages')\n",
    "\n",
    "    plt.legend(\n",
    "        loc='upper right',\n",
    "        labels=['%s, %1.1f%%' % (\n",
    "            l, (float(s) / total_general) * 100) for l, s in zip(labels, sizes)],\n",
    "        prop={'size': 15},\n",
    "        bbox_to_anchor=(0.05, 0.7),\n",
    "    )\n",
    "\n",
    "\n",
    "    plt.show()\n",
    "\n",
    "plot_severity_percentages()"
   ]
  },
  {
   "cell_type": "code",
   "execution_count": null,
   "id": "400343a6",
   "metadata": {},
   "outputs": [],
   "source": [
    "\"\"\"\n",
    "the majority (89%) of accidents were of moderate severity (2), and the greatest\n",
    "minority was of minor severity (1).\n",
    "\"\"\""
   ]
  }
 ],
 "metadata": {
  "kernelspec": {
   "display_name": "Python 3 (ipykernel)",
   "language": "python",
   "name": "python3"
  },
  "language_info": {
   "codemirror_mode": {
    "name": "ipython",
    "version": 3
   },
   "file_extension": ".py",
   "mimetype": "text/x-python",
   "name": "python",
   "nbconvert_exporter": "python",
   "pygments_lexer": "ipython3",
   "version": "3.9.6"
  }
 },
 "nbformat": 4,
 "nbformat_minor": 5
}
